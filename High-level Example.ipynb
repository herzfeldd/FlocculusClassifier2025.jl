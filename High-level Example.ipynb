{
 "cells": [
  {
   "cell_type": "code",
   "execution_count": 1,
   "id": "337e7adf-60d1-45f1-8430-a008ea2d3104",
   "metadata": {
    "execution": {
     "iopub.execute_input": "2025-06-03T19:07:56.295Z",
     "iopub.status.busy": "2025-06-03T19:07:55.761Z",
     "iopub.status.idle": "2025-06-03T19:07:57.563Z",
     "shell.execute_reply": "2025-06-03T19:07:57.473Z"
    }
   },
   "outputs": [],
   "source": [
    "import Downloads\n",
    "import JLD2\n",
    "import Pkg"
   ]
  },
  {
   "cell_type": "code",
   "execution_count": 2,
   "id": "f4faf1da-0193-4dc3-80bc-f8d5760c14f0",
   "metadata": {
    "execution": {
     "iopub.execute_input": "2025-06-03T19:07:57.563Z",
     "iopub.status.busy": "2025-06-03T19:07:57.563Z",
     "iopub.status.idle": "2025-06-03T19:07:57.575Z",
     "shell.execute_reply": "2025-06-03T19:07:57.575Z"
    }
   },
   "outputs": [],
   "source": [
    "# Install the package from GitHub (this only needs to be done once per julia installation)\n",
    "#Pkg.add(url=\"https://github.com/herzfeldd/FlocculusClassifier2025.jl.git\") "
   ]
  },
  {
   "cell_type": "code",
   "execution_count": 3,
   "id": "d095cbcf-f38e-471a-b4b9-11e26135edf8",
   "metadata": {
    "execution": {
     "iopub.execute_input": "2025-06-03T19:07:57.575Z",
     "iopub.status.busy": "2025-06-03T19:07:57.575Z",
     "iopub.status.idle": "2025-06-03T19:08:02.916Z",
     "shell.execute_reply": "2025-06-03T19:08:02.916Z"
    }
   },
   "outputs": [],
   "source": [
    "# Load the package\n",
    "import FlocculusClassifier2025"
   ]
  },
  {
   "cell_type": "code",
   "execution_count": 4,
   "id": "79eb357f-8ef4-4fcd-a9c6-a47194bf664a",
   "metadata": {
    "execution": {
     "iopub.execute_input": "2025-06-03T19:08:03.205Z",
     "iopub.status.busy": "2025-06-03T19:08:02.916Z",
     "iopub.status.idle": "2025-06-03T19:09:39.008Z",
     "shell.execute_reply": "2025-06-03T19:09:39.008Z"
    }
   },
   "outputs": [
    {
     "data": {
      "text/plain": [
       "Recording @ 40000.0 Hz. 16 channel(s) x 36000000 timepoints\n"
      ]
     },
     "execution_count": 4,
     "metadata": {},
     "output_type": "execute_result"
    }
   ],
   "source": [
    "# Use an example recording from Open Science Framework (OSF)\n",
    "# This recording from Monkey Dandy is 16 channel encoded as a 16 bit signed integers at 40 kHz.\n",
    "# We will load it directly from the OSF website\n",
    "wideband_recording = FlocculusClassifier2025.FlatRecording(\"https://osf.io/download/7bfyj/\", 16, 40000.0)"
   ]
  },
  {
   "cell_type": "code",
   "execution_count": 5,
   "id": "9fdeebdf-4a64-4bde-ab08-01d91593a8f2",
   "metadata": {
    "execution": {
     "iopub.execute_input": "2025-06-03T19:09:39.008Z",
     "iopub.status.busy": "2025-06-03T19:09:39.008Z",
     "iopub.status.idle": "2025-06-03T19:09:42.283Z",
     "shell.execute_reply": "2025-06-03T19:09:42.283Z"
    }
   },
   "outputs": [],
   "source": [
    "# Load our neurons directly from the OSF website.\n",
    "# See the documentation from the definition of a `Neuron` (which has spike indices and sampling rates)\n",
    "filename = Downloads.download(\"https://osf.io/download/d792h/\")\n",
    "f = JLD2.jldopen(filename, \"r\")\n",
    "neurons = Vector{FlocculusClassifier2025.Neuron}(undef, 0)\n",
    "for entry in f[\"neurons\"]\n",
    "    push!(neurons, FlocculusClassifier2025.Neuron(entry[:spike_indices], entry[:sampling_rate]))\n",
    "end\n",
    "Base.Filesystem.rm(filename)"
   ]
  },
  {
   "cell_type": "code",
   "execution_count": 6,
   "id": "abfb032b-736d-4744-b20f-f722e4445ce4",
   "metadata": {
    "execution": {
     "iopub.execute_input": "2025-06-03T19:09:42.283Z",
     "iopub.status.busy": "2025-06-03T19:09:42.283Z",
     "iopub.status.idle": "2025-06-03T19:11:05.535Z",
     "shell.execute_reply": "2025-06-03T19:11:05.535Z"
    }
   },
   "outputs": [
    {
     "name": "stderr",
     "output_type": "stream",
     "text": [
      "\u001b[32mProgress: 100%|█████████████████████████████████████████| Time: 0:00:36\u001b[39m\n"
     ]
    },
    {
     "data": {
      "text/plain": [
       "(AbstractString[\"putative_mf\", \"putative_golgi\", \"putative_ubc\", \"putative_golgi\", \"putative_golgi\", \"putative_ubc\"], [62.297971493945546, 124.63598894731814, 1.708684367438024, 21.30597430042229, 161.1910142152708, 2.79572093247117], [0.983248233795166, 0.981651782989502, 0.598931074142456, 0.9401688575744629, 0.9851076006889343, 0.5608822703361511])"
      ]
     },
     "execution_count": 6,
     "metadata": {},
     "output_type": "execute_result"
    }
   ],
   "source": [
    "labels, confidence_ratios, probabilities = FlocculusClassifier2025.predict(wideband_recording, neurons)"
   ]
  }
 ],
 "metadata": {
  "kernelspec": {
   "display_name": "Julia 1.11.5",
   "language": "julia",
   "name": "julia-1.11"
  },
  "language_info": {
   "file_extension": ".jl",
   "mimetype": "application/julia",
   "name": "julia",
   "version": "1.11.5"
  }
 },
 "nbformat": 4,
 "nbformat_minor": 5
}
